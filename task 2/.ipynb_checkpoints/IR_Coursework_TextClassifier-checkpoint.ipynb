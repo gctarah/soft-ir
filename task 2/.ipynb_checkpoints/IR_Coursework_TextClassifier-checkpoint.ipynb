{
 "cells": [
  {
   "cell_type": "markdown",
   "id": "steady-local",
   "metadata": {},
   "source": [
    "# Information Retrieval Coursework (STW7071CEM)\n",
    "\n",
    "Task 2:\n",
    "A subject classification functionality is also required, whether as a standalone software or linked with a search engine. More specifically, the input is a scientific document, and the output is one of zero or more of the following cases: Health, business, and Sport are all areas of study."
   ]
  },
  {
   "cell_type": "code",
   "execution_count": null,
   "id": "643b1e42-ad5b-468f-9102-78fb7a49ce92",
   "metadata": {},
   "outputs": [],
   "source": []
  },
  {
   "cell_type": "markdown",
   "id": "pressed-gateway",
   "metadata": {},
   "source": [
    "## Imports"
   ]
  },
  {
   "cell_type": "code",
   "execution_count": 9,
   "id": "second-memphis",
   "metadata": {
    "ExecuteTime": {
     "end_time": "2021-08-01T01:59:41.760225Z",
     "start_time": "2021-08-01T01:59:41.515144Z"
    }
   },
   "outputs": [],
   "source": [
    "import os\n",
    "import string\n",
    "\n",
    "# Data Handling and Processing\n",
    "import pandas as pd\n",
    "import numpy as np\n",
    "import re\n",
    "import pandas\n",
    "# from scipy import interp\n",
    "\n",
    "\n",
    "# Visualuzation\n",
    "import matplotlib.pyplot as plt\n",
    "%matplotlib inline\n",
    "%config InlineBackend.figure_format='retina'\n",
    "\n",
    "# NLP Packages\n",
    "from nltk.tokenize import word_tokenize\n",
    "from nltk.corpus import stopwords, wordnet\n",
    "from nltk.stem import WordNetLemmatizer\n",
    "from nltk import pos_tag\n",
    "import nltk\n",
    "from joblib import dump, load\n",
    "\n",
    "\n",
    "# ML Models\n",
    "from sklearn.linear_model import LogisticRegression\n",
    "from sklearn.naive_bayes import MultinomialNB\n",
    "from sklearn.linear_model import RidgeClassifier\n",
    "from sklearn.tree import DecisionTreeClassifier\n",
    "\n",
    "# Scikit Learn packages\n",
    "from sklearn.base import clone\n",
    "from sklearn.preprocessing import label_binarize, LabelEncoder\n",
    "from sklearn.feature_extraction.text import TfidfVectorizer, CountVectorizer\n",
    "from sklearn.model_selection import KFold, cross_validate, cross_val_score, train_test_split\n",
    "from sklearn.pipeline import Pipeline\n",
    "from sklearn import metrics\n",
    "from sklearn.metrics import roc_curve, auc\n"
   ]
  },
  {
   "cell_type": "markdown",
   "id": "indonesian-postage",
   "metadata": {},
   "source": [
    "# Load Datasets"
   ]
  },
  {
   "cell_type": "code",
   "execution_count": 2,
   "id": "hired-programmer",
   "metadata": {
    "ExecuteTime": {
     "end_time": "2021-08-01T01:38:04.931143Z",
     "start_time": "2021-08-01T01:38:04.913935Z"
    }
   },
   "outputs": [],
   "source": []
  },
  {
   "cell_type": "code",
   "execution_count": 12,
   "id": "familiar-history",
   "metadata": {
    "ExecuteTime": {
     "end_time": "2021-08-01T01:42:07.905926Z",
     "start_time": "2021-08-01T01:42:07.816237Z"
    }
   },
   "outputs": [
    {
     "data": {
      "text/html": [
       "<div>\n",
       "<style scoped>\n",
       "    .dataframe tbody tr th:only-of-type {\n",
       "        vertical-align: middle;\n",
       "    }\n",
       "\n",
       "    .dataframe tbody tr th {\n",
       "        vertical-align: top;\n",
       "    }\n",
       "\n",
       "    .dataframe thead th {\n",
       "        text-align: right;\n",
       "    }\n",
       "</style>\n",
       "<table border=\"1\" class=\"dataframe\">\n",
       "  <thead>\n",
       "    <tr style=\"text-align: right;\">\n",
       "      <th></th>\n",
       "      <th>Category</th>\n",
       "      <th>Sentence</th>\n",
       "    </tr>\n",
       "  </thead>\n",
       "  <tbody>\n",
       "    <tr>\n",
       "      <th>0</th>\n",
       "      <td>Sport</td>\n",
       "      <td>The football match ended in a thrilling 3-2 vi...</td>\n",
       "    </tr>\n",
       "    <tr>\n",
       "      <th>1</th>\n",
       "      <td>Sport</td>\n",
       "      <td>The Olympic Games brought together athletes fr...</td>\n",
       "    </tr>\n",
       "    <tr>\n",
       "      <th>2</th>\n",
       "      <td>Sport</td>\n",
       "      <td>Tennis superstar Serena Williams secured her s...</td>\n",
       "    </tr>\n",
       "    <tr>\n",
       "      <th>3</th>\n",
       "      <td>Health</td>\n",
       "      <td>New research shows that regular exercise can s...</td>\n",
       "    </tr>\n",
       "    <tr>\n",
       "      <th>4</th>\n",
       "      <td>Health</td>\n",
       "      <td>The World Health Organization (WHO) has issued...</td>\n",
       "    </tr>\n",
       "  </tbody>\n",
       "</table>\n",
       "</div>"
      ],
      "text/plain": [
       "  Category                                           Sentence\n",
       "0    Sport  The football match ended in a thrilling 3-2 vi...\n",
       "1    Sport  The Olympic Games brought together athletes fr...\n",
       "2    Sport  Tennis superstar Serena Williams secured her s...\n",
       "3   Health  New research shows that regular exercise can s...\n",
       "4   Health  The World Health Organization (WHO) has issued..."
      ]
     },
     "execution_count": 12,
     "metadata": {},
     "output_type": "execute_result"
    }
   ],
   "source": [
    "text_df = pd.read_csv('dataset.csv', encoding = \"latin1\")\n",
    "text_df.head()"
   ]
  },
  {
   "cell_type": "code",
   "execution_count": 13,
   "id": "german-confidence",
   "metadata": {
    "ExecuteTime": {
     "end_time": "2021-08-01T01:45:35.332747Z",
     "start_time": "2021-08-01T01:43:42.973811Z"
    }
   },
   "outputs": [],
   "source": [
    "# Function to read the text files into one dataframe\n",
    "def readfiles_to_dataframe(directory, category):\n",
    "    arr = os.listdir(directory)\n",
    "    strtext = \".txt\"\n",
    "    for textfile in arr:\n",
    "        if textfile.__contains__(strtext):\n",
    "            fileObject = open(directory + textfile, \"r\")\n",
    "            data = fileObject.read()\n",
    "            ouvert = pd.read_csv('news_df.csv', index_col=\"Unnamed: 0\")\n",
    "            ouvert = ouvert.append({\"Class\": str(category), \"Text\": data},ignore_index=True)\n",
    "            ouvert.to_csv('news_df.csv')   \n"
   ]
  },
  {
   "cell_type": "code",
   "execution_count": 14,
   "id": "flush-consolidation",
   "metadata": {
    "ExecuteTime": {
     "end_time": "2021-08-01T01:45:56.821008Z",
     "start_time": "2021-08-01T01:45:56.763186Z"
    }
   },
   "outputs": [
    {
     "name": "stdout",
     "output_type": "stream",
     "text": [
      "(130, 3)\n"
     ]
    },
    {
     "data": {
      "text/html": [
       "<div>\n",
       "<style scoped>\n",
       "    .dataframe tbody tr th:only-of-type {\n",
       "        vertical-align: middle;\n",
       "    }\n",
       "\n",
       "    .dataframe tbody tr th {\n",
       "        vertical-align: top;\n",
       "    }\n",
       "\n",
       "    .dataframe thead th {\n",
       "        text-align: right;\n",
       "    }\n",
       "</style>\n",
       "<table border=\"1\" class=\"dataframe\">\n",
       "  <thead>\n",
       "    <tr style=\"text-align: right;\">\n",
       "      <th></th>\n",
       "      <th>Unnamed: 0</th>\n",
       "      <th>Text</th>\n",
       "      <th>Class</th>\n",
       "    </tr>\n",
       "  </thead>\n",
       "  <tbody>\n",
       "    <tr>\n",
       "      <th>0</th>\n",
       "      <td>0</td>\n",
       "      <td>WorldCom trial starts in New York\\n\\nThe trial...</td>\n",
       "      <td>business</td>\n",
       "    </tr>\n",
       "    <tr>\n",
       "      <th>1</th>\n",
       "      <td>1</td>\n",
       "      <td>Tsunami slows Sri Lanka's growth\\n\\nSri Lanka'...</td>\n",
       "      <td>business</td>\n",
       "    </tr>\n",
       "    <tr>\n",
       "      <th>2</th>\n",
       "      <td>2</td>\n",
       "      <td>Christmas shoppers flock to tills\\n\\nShops all...</td>\n",
       "      <td>business</td>\n",
       "    </tr>\n",
       "    <tr>\n",
       "      <th>3</th>\n",
       "      <td>3</td>\n",
       "      <td>Iraq to invite phone licence bids\\n\\nIraq is t...</td>\n",
       "      <td>business</td>\n",
       "    </tr>\n",
       "    <tr>\n",
       "      <th>4</th>\n",
       "      <td>4</td>\n",
       "      <td>Australia rates at four year high\\n\\nAustralia...</td>\n",
       "      <td>business</td>\n",
       "    </tr>\n",
       "  </tbody>\n",
       "</table>\n",
       "</div>"
      ],
      "text/plain": [
       "   Unnamed: 0                                               Text     Class\n",
       "0           0  WorldCom trial starts in New York\\n\\nThe trial...  business\n",
       "1           1  Tsunami slows Sri Lanka's growth\\n\\nSri Lanka'...  business\n",
       "2           2  Christmas shoppers flock to tills\\n\\nShops all...  business\n",
       "3           3  Iraq to invite phone licence bids\\n\\nIraq is t...  business\n",
       "4           4  Australia rates at four year high\\n\\nAustralia...  business"
      ]
     },
     "execution_count": 14,
     "metadata": {},
     "output_type": "execute_result"
    }
   ],
   "source": [
    "full_df = pd.read_csv('news_df.csv')\n",
    "print(full_df.shape)\n",
    "full_df.head()"
   ]
  },
  {
   "cell_type": "code",
   "execution_count": 15,
   "id": "after-prevention",
   "metadata": {
    "ExecuteTime": {
     "end_time": "2021-08-01T01:46:13.096704Z",
     "start_time": "2021-08-01T01:46:13.039953Z"
    }
   },
   "outputs": [
    {
     "data": {
      "text/html": [
       "<div>\n",
       "<style scoped>\n",
       "    .dataframe tbody tr th:only-of-type {\n",
       "        vertical-align: middle;\n",
       "    }\n",
       "\n",
       "    .dataframe tbody tr th {\n",
       "        vertical-align: top;\n",
       "    }\n",
       "\n",
       "    .dataframe thead th {\n",
       "        text-align: right;\n",
       "    }\n",
       "</style>\n",
       "<table border=\"1\" class=\"dataframe\">\n",
       "  <thead>\n",
       "    <tr style=\"text-align: right;\">\n",
       "      <th></th>\n",
       "      <th>Text</th>\n",
       "      <th>Class</th>\n",
       "    </tr>\n",
       "  </thead>\n",
       "  <tbody>\n",
       "    <tr>\n",
       "      <th>0</th>\n",
       "      <td>WorldCom trial starts in New York\\n\\nThe trial...</td>\n",
       "      <td>business</td>\n",
       "    </tr>\n",
       "    <tr>\n",
       "      <th>1</th>\n",
       "      <td>Tsunami slows Sri Lanka's growth\\n\\nSri Lanka'...</td>\n",
       "      <td>business</td>\n",
       "    </tr>\n",
       "    <tr>\n",
       "      <th>2</th>\n",
       "      <td>Christmas shoppers flock to tills\\n\\nShops all...</td>\n",
       "      <td>business</td>\n",
       "    </tr>\n",
       "    <tr>\n",
       "      <th>3</th>\n",
       "      <td>Iraq to invite phone licence bids\\n\\nIraq is t...</td>\n",
       "      <td>business</td>\n",
       "    </tr>\n",
       "    <tr>\n",
       "      <th>4</th>\n",
       "      <td>Australia rates at four year high\\n\\nAustralia...</td>\n",
       "      <td>business</td>\n",
       "    </tr>\n",
       "  </tbody>\n",
       "</table>\n",
       "</div>"
      ],
      "text/plain": [
       "                                                Text     Class\n",
       "0  WorldCom trial starts in New York\\n\\nThe trial...  business\n",
       "1  Tsunami slows Sri Lanka's growth\\n\\nSri Lanka'...  business\n",
       "2  Christmas shoppers flock to tills\\n\\nShops all...  business\n",
       "3  Iraq to invite phone licence bids\\n\\nIraq is t...  business\n",
       "4  Australia rates at four year high\\n\\nAustralia...  business"
      ]
     },
     "execution_count": 15,
     "metadata": {},
     "output_type": "execute_result"
    }
   ],
   "source": [
    "full_df.drop(columns=['Unnamed: 0'], inplace=True)\n",
    "full_df.head()"
   ]
  },
  {
   "cell_type": "markdown",
   "id": "nonprofit-syndication",
   "metadata": {},
   "source": [
    "## 1. Dataset Exploration"
   ]
  },
  {
   "cell_type": "code",
   "execution_count": 16,
   "id": "great-nightlife",
   "metadata": {
    "ExecuteTime": {
     "end_time": "2021-08-01T02:02:06.282040Z",
     "start_time": "2021-08-01T02:02:06.032043Z"
    }
   },
   "outputs": [
    {
     "data": {
      "image/png": "[encoded data removed]",
      "text/plain": [
       "<Figure size 640x480 with 1 Axes>"
      ]
     },
     "metadata": {
      "image/png": {
       "height": 528,
       "width": 561
      }
     },
     "output_type": "display_data"
    }
   ],
   "source": [
    "full_df['Class'].value_counts().plot(kind='bar')\n",
    "plt.title('Number of News articles per Category', size=20, pad=20);"
   ]
  },
  {
   "cell_type": "code",
   "execution_count": 17,
   "id": "subsequent-hometown",
   "metadata": {
    "ExecuteTime": {
     "end_time": "2021-08-01T02:02:39.543408Z",
     "start_time": "2021-08-01T02:02:39.514242Z"
    }
   },
   "outputs": [
    {
     "data": {
      "text/plain": [
       "Text     0\n",
       "Class    0\n",
       "dtype: int64"
      ]
     },
     "execution_count": 17,
     "metadata": {},
     "output_type": "execute_result"
    }
   ],
   "source": [
    "# Check for missing values\n",
    "full_df.isna().sum()"
   ]
  },
  {
   "cell_type": "markdown",
   "id": "naughty-samba",
   "metadata": {},
   "source": [
    "## 2. Text Preprocessing\n",
    "\n",
    "Here, unwanted parts of the text are removed such as special characters. "
   ]
  },
  {
   "cell_type": "code",
   "execution_count": 18,
   "id": "major-springer",
   "metadata": {
    "ExecuteTime": {
     "end_time": "2021-08-01T02:05:41.825096Z",
     "start_time": "2021-08-01T02:05:41.787802Z"
    }
   },
   "outputs": [],
   "source": [
    "def preprocess(df):\n",
    "    # Remove special characters\n",
    "    df['Text2'] = df['Text'].replace('\\n',' ')\n",
    "    df['Text2'] = df['Text2'].replace('\\r',' ')\n",
    "    \n",
    "    # Remove punctuation signs and lowercase all\n",
    "    df['Text2'] = df['Text2'].str.lower()\n",
    "    df['Text2'] = df['Text2'].str.translate(str.maketrans('', '', string.punctuation))\n",
    "    \n",
    "    \n",
    "    # Remove stop words\n",
    "    stop_words = stopwords.words(\"english\")\n",
    "    lemmatizer = WordNetLemmatizer()\n",
    "    \n",
    "    def fwpt(each):\n",
    "        tag = pos_tag([each])[0][1][0].upper()\n",
    "        hash_tag = {\"N\": wordnet.NOUN,\"R\": wordnet.ADV, \"V\": wordnet.VERB,\"J\": wordnet.ADJ}        \n",
    "        return hash_tag.get(tag, wordnet.NOUN)\n",
    "\n",
    "    \n",
    "    def lematize(text):\n",
    "        tokens = nltk.word_tokenize(text)\n",
    "        ax = \"\"\n",
    "        for each in tokens:\n",
    "            if each not in stop_words:\n",
    "                ax += lemmatizer.lemmatize(each, fwpt(each)) + \" \"\n",
    "        return ax\n",
    "    \n",
    "    df['Text2'] = df['Text2'].apply(lematize)"
   ]
  },
  {
   "cell_type": "code",
   "execution_count": 19,
   "id": "subtle-floating",
   "metadata": {
    "ExecuteTime": {
     "end_time": "2021-08-01T02:08:25.551690Z",
     "start_time": "2021-08-01T02:07:24.370175Z"
    }
   },
   "outputs": [],
   "source": [
    "preprocess(full_df)"
   ]
  },
  {
   "cell_type": "markdown",
   "id": "opposite-baltimore",
   "metadata": {},
   "source": [
    "### Demonstration of Preprocessing\n",
    "\n",
    "**Original:**"
   ]
  },
  {
   "cell_type": "code",
   "execution_count": 20,
   "id": "informal-disease",
   "metadata": {
    "ExecuteTime": {
     "end_time": "2021-08-01T02:09:19.409252Z",
     "start_time": "2021-08-01T02:09:19.402659Z"
    }
   },
   "outputs": [
    {
     "data": {
      "text/plain": [
       "'Tsunami slows Sri Lanka\\'s growth\\n\\nSri Lanka\\'s president has launched a reconstruction drive worth $3.5bn (£1.8bn) by appealing for peace and national unity.\\n\\nPresident Kumaratunga said it was now important to find a peaceful solution to years of internal conflict. Meanwhile, the International Monetary Fund (IMF) said damage from the tsunami would cut one percentage point from Sri Lanka\\'s economic growth this year. It estimated the wave left physical damage equal to 6.5% of the economy.\\n\\nSeparately, the International Labour Organisation (ILO) said that at least one million people have lost their livelihoods in Sri Lanka and Indonesia alone. It called for action to create jobs. President Kumaratunga attended a ceremony in the southern town of Hambantota. She was joined by government and opposition politicians, together with Buddhist, Hindu, Muslim and Christian clergy.\\n\\nPrime Minister Mahinda Rajapakse laid the foundation stone on a new housing project intended to provide 6,000 homes for survivors of the tsunami. Mrs Kumaratunga called for the tragedy to be \"the start of a new beginning to rebuild our nation\". \"We are a country blessed with so many natural resources and we have not made use of them fully. Instead we have been squabbling, fighting,\" she added. Norway\\'s peace negotiator Erik Solheim is due to arrive on Wednesday to try to revive peace talks in the decades-long conflict between government forces and the Tamil Tigers, who want a separate state in the north east of the country. Reconstruction efforts in eastern Sri Lanka have been hampered by tensions between the two sides.\\n\\nThe IMF said that the Sri Lankan authorities\\' initial estimates have put the physical damage at $1.3 to $1.5bn, but added that the implications for the economy were much wider than this. \"The broader macroeconomic impact will clearly be substantial but the details are difficult to assess at this early stage,\" the IMF said. Growth, inflation, the balance of payments and foreign exchange reserves are all expected to show the effects of lost businesses and reconstruction costs. \"The fishing industry has been devastated, agricultural production may be affected and tourism will suffer, especially in the short term,\" the report said. The ILO estimated that 400,000 Sri Lankans have lost their jobs, mostly in these three industries. Earnings from tourism this year are expected to be 15% lower than last year. Economic growth this year is expected to be 4%, which is about 1% less than previously forecast. Inflation could climb to 14% compared to a previous estimate of 12%. Although major exports have not suffered, the IMF expects the reconstruction effort will require higher imports which could damage the balance of payments. Foreign exchange reserves may become strained as \"Sri Lanka will be hard pressed to keep international reserves at the pre-tsunami level\" which totalled more than two months worth of imports. Last week, the IMF approved Sri Lanka\\'s request for a freeze on loan repayments.\\n'"
      ]
     },
     "execution_count": 20,
     "metadata": {},
     "output_type": "execute_result"
    }
   ],
   "source": [
    "full_df.iloc[1]['Text']"
   ]
  },
  {
   "cell_type": "markdown",
   "id": "continent-teddy",
   "metadata": {},
   "source": [
    "**Processed:**"
   ]
  },
  {
   "cell_type": "code",
   "execution_count": 21,
   "id": "incoming-chemical",
   "metadata": {
    "ExecuteTime": {
     "end_time": "2021-08-01T02:10:20.041432Z",
     "start_time": "2021-08-01T02:10:20.031098Z"
    }
   },
   "outputs": [
    {
     "data": {
      "text/plain": [
       "'tsunami slows sri lankas growth sri lankas president launch reconstruction drive worth 35bn £18bn appeal peace national unity president kumaratunga say important find peaceful solution year internal conflict meanwhile international monetary fund imf say damage tsunami would cut one percentage point sri lankas economic growth year estimate wave left physical damage equal 65 economy separately international labour organisation ilo say least one million people lose livelihood sri lanka indonesia alone call action create job president kumaratunga attend ceremony southern town hambantota join government opposition politician together buddhist hindu muslim christian clergy prime minister mahinda rajapakse laid foundation stone new housing project intend provide 6000 home survivor tsunami mr kumaratunga call tragedy start new begin rebuild nation country bless many natural resource make use fully instead squabble fight add norway peace negotiator erik solheim due arrive wednesday try revive peace talk decadeslong conflict government force tamil tiger want separate state north east country reconstruction effort eastern sri lanka hamper tension two side imf say sri lankan authority initial estimate put physical damage 13 15bn add implication economy much wider broader macroeconomic impact clearly substantial detail difficult ass early stage imf say growth inflation balance payment foreign exchange reserve expect show effect lose business reconstruction cost fishing industry devastate agricultural production may affected tourism suffer especially short term report say ilo estimate 400000 sri lankans lose job mostly three industry earnings tourism year expect 15 low last year economic growth year expect 4 1 less previously forecast inflation could climb 14 compare previous estimate 12 although major export suffer imf expect reconstruction effort require high import could damage balance payment foreign exchange reserve may become strain sri lanka hard press keep international reserve pretsunami level total two month worth import last week imf approve sri lankas request freeze loan repayment '"
      ]
     },
     "execution_count": 21,
     "metadata": {},
     "output_type": "execute_result"
    }
   ],
   "source": [
    "full_df.iloc[1]['Text2']"
   ]
  },
  {
   "cell_type": "markdown",
   "id": "rolled-chancellor",
   "metadata": {},
   "source": [
    "## 3. Train Test Split"
   ]
  },
  {
   "cell_type": "code",
   "execution_count": 22,
   "id": "miniature-crime",
   "metadata": {
    "ExecuteTime": {
     "end_time": "2021-08-01T02:19:53.776543Z",
     "start_time": "2021-08-01T02:19:53.695104Z"
    }
   },
   "outputs": [],
   "source": [
    "X_train, X_test, y_train, y_test = train_test_split(full_df['Text2'], \n",
    "                                                    full_df['Class'], \n",
    "                                                    test_size=0.2, \n",
    "                                                    random_state=9)"
   ]
  },
  {
   "cell_type": "markdown",
   "id": "conceptual-specification",
   "metadata": {},
   "source": [
    "#### Check for acceptable category balance"
   ]
  },
  {
   "cell_type": "code",
   "execution_count": 23,
   "id": "modular-discount",
   "metadata": {
    "ExecuteTime": {
     "end_time": "2021-08-01T02:23:04.756438Z",
     "start_time": "2021-08-01T02:23:04.493698Z"
    }
   },
   "outputs": [
    {
     "data": {
      "image/png": "[encoded data removed]",
      "text/plain": [
       "<Figure size 640x480 with 1 Axes>"
      ]
     },
     "metadata": {
      "image/png": {
       "height": 528,
       "width": 543
      }
     },
     "output_type": "display_data"
    }
   ],
   "source": [
    "y_train.value_counts().plot(kind='bar')\n",
    "plt.title('Category Balance', size=20, pad=20);"
   ]
  },
  {
   "cell_type": "code",
   "execution_count": 24,
   "id": "structural-timeline",
   "metadata": {
    "ExecuteTime": {
     "end_time": "2021-08-01T02:23:54.357909Z",
     "start_time": "2021-08-01T02:23:54.341711Z"
    }
   },
   "outputs": [
    {
     "name": "stdout",
     "output_type": "stream",
     "text": [
      "(104,) (26,) (104,) (26,)\n"
     ]
    }
   ],
   "source": [
    "print(X_train.shape, X_test.shape, y_train.shape, y_test.shape)"
   ]
  },
  {
   "cell_type": "markdown",
   "id": "theoretical-payment",
   "metadata": {},
   "source": [
    "## 4.  Vectorize"
   ]
  },
  {
   "cell_type": "code",
   "execution_count": 25,
   "id": "present-company",
   "metadata": {
    "ExecuteTime": {
     "end_time": "2021-08-01T02:24:58.293184Z",
     "start_time": "2021-08-01T02:24:58.262149Z"
    }
   },
   "outputs": [],
   "source": [
    "vector = TfidfVectorizer(stop_words='english', \n",
    "                         ngram_range = (1,2),\n",
    "                         min_df = 3,\n",
    "                         max_df = 1.,\n",
    "                         max_features = 10000)"
   ]
  },
  {
   "cell_type": "markdown",
   "id": "progressive-detroit",
   "metadata": {},
   "source": [
    "## 5.  Construct Model"
   ]
  },
  {
   "cell_type": "code",
   "execution_count": 26,
   "id": "natural-louis",
   "metadata": {
    "ExecuteTime": {
     "end_time": "2021-08-01T02:30:47.223623Z",
     "start_time": "2021-08-01T02:30:47.193232Z"
    }
   },
   "outputs": [],
   "source": [
    "def fit_model(model, model_name):\n",
    "    line = Pipeline([('vectorize', vector), (model_name, model)])\n",
    "    \n",
    "    output = cross_validate(line, \n",
    "                            X_train, \n",
    "                            y_train, \n",
    "                            cv = KFold(shuffle = True, \n",
    "                                       n_splits = 3,  \n",
    "                                       random_state = 9),\n",
    "                            scoring = ('accuracy', 'f1_weighted','precision_weighted','recall_weighted'),           \n",
    "                            return_train_score=True)\n",
    "    return output"
   ]
  },
  {
   "cell_type": "code",
   "execution_count": 27,
   "id": "reasonable-inspector",
   "metadata": {
    "ExecuteTime": {
     "end_time": "2021-08-01T02:31:41.443274Z",
     "start_time": "2021-08-01T02:31:29.795635Z"
    }
   },
   "outputs": [],
   "source": [
    "dectree = fit_model(DecisionTreeClassifier(), 'DTree')\n",
    "ridge = fit_model(RidgeClassifier(), 'Ridge')\n",
    "bayes = fit_model(MultinomialNB(), 'NB')\n",
    "\n",
    "dt = pd.DataFrame.from_dict(dectree)\n",
    "rc = pd.DataFrame.from_dict(ridge)\n",
    "bc = pd.DataFrame.from_dict(bayes)"
   ]
  },
  {
   "cell_type": "code",
   "execution_count": 28,
   "id": "compressed-contractor",
   "metadata": {
    "ExecuteTime": {
     "end_time": "2021-08-01T02:32:19.672291Z",
     "start_time": "2021-08-01T02:32:19.642518Z"
    }
   },
   "outputs": [],
   "source": [
    "l1 = [bc, rc, dt]\n",
    "l2 =[\"NB\", \"Ridge\", \"DT\"]\n",
    "\n",
    "for each, tag in zip(l1, l2):\n",
    "    each['model'] = [tag, tag, tag]\n",
    "\n",
    "joined_output = pd.concat([bc,rc,dt])"
   ]
  },
  {
   "cell_type": "code",
   "execution_count": 29,
   "id": "automatic-device",
   "metadata": {
    "ExecuteTime": {
     "end_time": "2021-08-01T02:33:12.025271Z",
     "start_time": "2021-08-01T02:33:12.016908Z"
    }
   },
   "outputs": [
    {
     "data": {
      "text/plain": [
       "{'fit_time': array([0.04540014, 0.04131007, 0.04215837]),\n",
       " 'score_time': array([0.02353525, 0.0122571 , 0.01094747]),\n",
       " 'test_accuracy': array([1.        , 0.8       , 0.91176471]),\n",
       " 'train_accuracy': array([1., 1., 1.]),\n",
       " 'test_f1_weighted': array([1.        , 0.76030178, 0.90537293]),\n",
       " 'train_f1_weighted': array([1., 1., 1.]),\n",
       " 'test_precision_weighted': array([1.        , 0.85185185, 0.92156863]),\n",
       " 'train_precision_weighted': array([1., 1., 1.]),\n",
       " 'test_recall_weighted': array([1.        , 0.8       , 0.91176471]),\n",
       " 'train_recall_weighted': array([1., 1., 1.])}"
      ]
     },
     "execution_count": 29,
     "metadata": {},
     "output_type": "execute_result"
    }
   ],
   "source": [
    "dectree"
   ]
  },
  {
   "cell_type": "code",
   "execution_count": 30,
   "id": "worth-marijuana",
   "metadata": {
    "ExecuteTime": {
     "end_time": "2021-08-01T02:33:21.177196Z",
     "start_time": "2021-08-01T02:33:21.168888Z"
    }
   },
   "outputs": [
    {
     "data": {
      "text/plain": [
       "{'fit_time': array([0.04982305, 0.04199171, 0.04228425]),\n",
       " 'score_time': array([0.01444411, 0.0151372 , 0.01678658]),\n",
       " 'test_accuracy': array([0.94285714, 0.94285714, 0.91176471]),\n",
       " 'train_accuracy': array([1., 1., 1.]),\n",
       " 'test_f1_weighted': array([0.9414966 , 0.9385034 , 0.90537293]),\n",
       " 'train_f1_weighted': array([1., 1., 1.]),\n",
       " 'test_precision_weighted': array([0.94805195, 0.94805195, 0.92156863]),\n",
       " 'train_precision_weighted': array([1., 1., 1.]),\n",
       " 'test_recall_weighted': array([0.94285714, 0.94285714, 0.91176471]),\n",
       " 'train_recall_weighted': array([1., 1., 1.])}"
      ]
     },
     "execution_count": 30,
     "metadata": {},
     "output_type": "execute_result"
    }
   ],
   "source": [
    "ridge"
   ]
  },
  {
   "cell_type": "code",
   "execution_count": 31,
   "id": "cleared-romania",
   "metadata": {
    "ExecuteTime": {
     "end_time": "2021-08-01T02:33:33.009773Z",
     "start_time": "2021-08-01T02:33:33.001230Z"
    }
   },
   "outputs": [
    {
     "data": {
      "text/plain": [
       "{'fit_time': array([0.04046321, 0.04103374, 0.04178214]),\n",
       " 'score_time': array([0.01032495, 0.01205993, 0.01524687]),\n",
       " 'test_accuracy': array([0.88571429, 0.77142857, 0.85294118]),\n",
       " 'train_accuracy': array([0.97101449, 0.98550725, 0.95714286]),\n",
       " 'test_f1_weighted': array([0.87852814, 0.73088435, 0.81902824]),\n",
       " 'train_f1_weighted': array([0.9707231 , 0.98516241, 0.95413587]),\n",
       " 'test_precision_weighted': array([0.9047619 , 0.83673469, 0.87829615]),\n",
       " 'train_precision_weighted': array([0.97227473, 0.98582931, 0.96013289]),\n",
       " 'test_recall_weighted': array([0.88571429, 0.77142857, 0.85294118]),\n",
       " 'train_recall_weighted': array([0.97101449, 0.98550725, 0.95714286])}"
      ]
     },
     "execution_count": 31,
     "metadata": {},
     "output_type": "execute_result"
    }
   ],
   "source": [
    "bayes"
   ]
  },
  {
   "cell_type": "code",
   "execution_count": 32,
   "id": "elect-trail",
   "metadata": {
    "ExecuteTime": {
     "end_time": "2021-08-01T02:34:09.787789Z",
     "start_time": "2021-08-01T02:34:09.744308Z"
    }
   },
   "outputs": [],
   "source": [
    "relevant_measures = list(['test_accuracy','test_precision_weighted', 'test_recall_weighted', 'test_f1_weighted'])\n",
    "\n",
    "dec_tree_metrics = joined_output.loc[joined_output.model == 'DT'][relevant_measures]\n",
    "nb_metrics = joined_output.loc[joined_output.model == 'NB'][relevant_measures]\n",
    "r_metrics = joined_output.loc[joined_output.model == 'Ridge'][relevant_measures]"
   ]
  },
  {
   "cell_type": "markdown",
   "id": "entitled-pharmacy",
   "metadata": {},
   "source": [
    "#### Decision Tree metrics"
   ]
  },
  {
   "cell_type": "code",
   "execution_count": 33,
   "id": "proud-movement",
   "metadata": {
    "ExecuteTime": {
     "end_time": "2021-08-01T02:34:45.966238Z",
     "start_time": "2021-08-01T02:34:45.956440Z"
    }
   },
   "outputs": [
    {
     "data": {
      "text/html": [
       "<div>\n",
       "<style scoped>\n",
       "    .dataframe tbody tr th:only-of-type {\n",
       "        vertical-align: middle;\n",
       "    }\n",
       "\n",
       "    .dataframe tbody tr th {\n",
       "        vertical-align: top;\n",
       "    }\n",
       "\n",
       "    .dataframe thead th {\n",
       "        text-align: right;\n",
       "    }\n",
       "</style>\n",
       "<table border=\"1\" class=\"dataframe\">\n",
       "  <thead>\n",
       "    <tr style=\"text-align: right;\">\n",
       "      <th></th>\n",
       "      <th>test_accuracy</th>\n",
       "      <th>test_precision_weighted</th>\n",
       "      <th>test_recall_weighted</th>\n",
       "      <th>test_f1_weighted</th>\n",
       "    </tr>\n",
       "  </thead>\n",
       "  <tbody>\n",
       "    <tr>\n",
       "      <th>0</th>\n",
       "      <td>1.000000</td>\n",
       "      <td>1.000000</td>\n",
       "      <td>1.000000</td>\n",
       "      <td>1.000000</td>\n",
       "    </tr>\n",
       "    <tr>\n",
       "      <th>1</th>\n",
       "      <td>0.800000</td>\n",
       "      <td>0.851852</td>\n",
       "      <td>0.800000</td>\n",
       "      <td>0.760302</td>\n",
       "    </tr>\n",
       "    <tr>\n",
       "      <th>2</th>\n",
       "      <td>0.911765</td>\n",
       "      <td>0.921569</td>\n",
       "      <td>0.911765</td>\n",
       "      <td>0.905373</td>\n",
       "    </tr>\n",
       "  </tbody>\n",
       "</table>\n",
       "</div>"
      ],
      "text/plain": [
       "   test_accuracy  test_precision_weighted  test_recall_weighted  \\\n",
       "0       1.000000                 1.000000              1.000000   \n",
       "1       0.800000                 0.851852              0.800000   \n",
       "2       0.911765                 0.921569              0.911765   \n",
       "\n",
       "   test_f1_weighted  \n",
       "0          1.000000  \n",
       "1          0.760302  \n",
       "2          0.905373  "
      ]
     },
     "execution_count": 33,
     "metadata": {},
     "output_type": "execute_result"
    }
   ],
   "source": [
    "dec_tree_metrics"
   ]
  },
  {
   "cell_type": "markdown",
   "id": "quality-aspect",
   "metadata": {},
   "source": [
    "#### Multinomial Naive Bayes metrics"
   ]
  },
  {
   "cell_type": "code",
   "execution_count": 34,
   "id": "lucky-chance",
   "metadata": {
    "ExecuteTime": {
     "end_time": "2021-08-01T02:35:22.423739Z",
     "start_time": "2021-08-01T02:35:22.412406Z"
    }
   },
   "outputs": [
    {
     "data": {
      "text/html": [
       "<div>\n",
       "<style scoped>\n",
       "    .dataframe tbody tr th:only-of-type {\n",
       "        vertical-align: middle;\n",
       "    }\n",
       "\n",
       "    .dataframe tbody tr th {\n",
       "        vertical-align: top;\n",
       "    }\n",
       "\n",
       "    .dataframe thead th {\n",
       "        text-align: right;\n",
       "    }\n",
       "</style>\n",
       "<table border=\"1\" class=\"dataframe\">\n",
       "  <thead>\n",
       "    <tr style=\"text-align: right;\">\n",
       "      <th></th>\n",
       "      <th>test_accuracy</th>\n",
       "      <th>test_precision_weighted</th>\n",
       "      <th>test_recall_weighted</th>\n",
       "      <th>test_f1_weighted</th>\n",
       "    </tr>\n",
       "  </thead>\n",
       "  <tbody>\n",
       "    <tr>\n",
       "      <th>0</th>\n",
       "      <td>0.885714</td>\n",
       "      <td>0.904762</td>\n",
       "      <td>0.885714</td>\n",
       "      <td>0.878528</td>\n",
       "    </tr>\n",
       "    <tr>\n",
       "      <th>1</th>\n",
       "      <td>0.771429</td>\n",
       "      <td>0.836735</td>\n",
       "      <td>0.771429</td>\n",
       "      <td>0.730884</td>\n",
       "    </tr>\n",
       "    <tr>\n",
       "      <th>2</th>\n",
       "      <td>0.852941</td>\n",
       "      <td>0.878296</td>\n",
       "      <td>0.852941</td>\n",
       "      <td>0.819028</td>\n",
       "    </tr>\n",
       "  </tbody>\n",
       "</table>\n",
       "</div>"
      ],
      "text/plain": [
       "   test_accuracy  test_precision_weighted  test_recall_weighted  \\\n",
       "0       0.885714                 0.904762              0.885714   \n",
       "1       0.771429                 0.836735              0.771429   \n",
       "2       0.852941                 0.878296              0.852941   \n",
       "\n",
       "   test_f1_weighted  \n",
       "0          0.878528  \n",
       "1          0.730884  \n",
       "2          0.819028  "
      ]
     },
     "execution_count": 34,
     "metadata": {},
     "output_type": "execute_result"
    }
   ],
   "source": [
    "nb_metrics"
   ]
  },
  {
   "cell_type": "markdown",
   "id": "identified-tragedy",
   "metadata": {},
   "source": [
    "#### Ridge Classifier metrics"
   ]
  },
  {
   "cell_type": "code",
   "execution_count": 35,
   "id": "balanced-spain",
   "metadata": {
    "ExecuteTime": {
     "end_time": "2021-08-01T02:36:04.986734Z",
     "start_time": "2021-08-01T02:36:04.976516Z"
    }
   },
   "outputs": [
    {
     "data": {
      "text/html": [
       "<div>\n",
       "<style scoped>\n",
       "    .dataframe tbody tr th:only-of-type {\n",
       "        vertical-align: middle;\n",
       "    }\n",
       "\n",
       "    .dataframe tbody tr th {\n",
       "        vertical-align: top;\n",
       "    }\n",
       "\n",
       "    .dataframe thead th {\n",
       "        text-align: right;\n",
       "    }\n",
       "</style>\n",
       "<table border=\"1\" class=\"dataframe\">\n",
       "  <thead>\n",
       "    <tr style=\"text-align: right;\">\n",
       "      <th></th>\n",
       "      <th>test_accuracy</th>\n",
       "      <th>test_precision_weighted</th>\n",
       "      <th>test_recall_weighted</th>\n",
       "      <th>test_f1_weighted</th>\n",
       "    </tr>\n",
       "  </thead>\n",
       "  <tbody>\n",
       "    <tr>\n",
       "      <th>0</th>\n",
       "      <td>0.942857</td>\n",
       "      <td>0.948052</td>\n",
       "      <td>0.942857</td>\n",
       "      <td>0.941497</td>\n",
       "    </tr>\n",
       "    <tr>\n",
       "      <th>1</th>\n",
       "      <td>0.942857</td>\n",
       "      <td>0.948052</td>\n",
       "      <td>0.942857</td>\n",
       "      <td>0.938503</td>\n",
       "    </tr>\n",
       "    <tr>\n",
       "      <th>2</th>\n",
       "      <td>0.911765</td>\n",
       "      <td>0.921569</td>\n",
       "      <td>0.911765</td>\n",
       "      <td>0.905373</td>\n",
       "    </tr>\n",
       "  </tbody>\n",
       "</table>\n",
       "</div>"
      ],
      "text/plain": [
       "   test_accuracy  test_precision_weighted  test_recall_weighted  \\\n",
       "0       0.942857                 0.948052              0.942857   \n",
       "1       0.942857                 0.948052              0.942857   \n",
       "2       0.911765                 0.921569              0.911765   \n",
       "\n",
       "   test_f1_weighted  \n",
       "0          0.941497  \n",
       "1          0.938503  \n",
       "2          0.905373  "
      ]
     },
     "execution_count": 35,
     "metadata": {},
     "output_type": "execute_result"
    }
   ],
   "source": [
    "r_metrics"
   ]
  },
  {
   "cell_type": "markdown",
   "id": "greenhouse-minutes",
   "metadata": {},
   "source": [
    "#### Average metrics"
   ]
  },
  {
   "cell_type": "code",
   "execution_count": 36,
   "id": "stainless-composite",
   "metadata": {
    "ExecuteTime": {
     "end_time": "2021-08-01T02:39:58.060999Z",
     "start_time": "2021-08-01T02:39:58.049490Z"
    }
   },
   "outputs": [
    {
     "name": "stdout",
     "output_type": "stream",
     "text": [
      "Decision Tree Mean Metrics:\n",
      "test_accuracy              0.903922\n",
      "test_precision_weighted    0.924473\n",
      "test_recall_weighted       0.903922\n",
      "test_f1_weighted           0.888558\n",
      "dtype: float64\n",
      "  \n",
      "Naive Bayes Mean Metrics:\n",
      "test_accuracy              0.836695\n",
      "test_precision_weighted    0.873264\n",
      "test_recall_weighted       0.836695\n",
      "test_f1_weighted           0.809480\n",
      "dtype: float64\n",
      "  \n",
      "Ridge Classifier Mean Metrics:\n",
      "test_accuracy              0.932493\n",
      "test_precision_weighted    0.939224\n",
      "test_recall_weighted       0.932493\n",
      "test_f1_weighted           0.928458\n",
      "dtype: float64\n",
      "  \n"
     ]
    }
   ],
   "source": [
    "metrics_ = [dec_tree_metrics, nb_metrics, r_metrics]\n",
    "names_ = ['Decision Tree', 'Naive Bayes', 'Ridge Classifier']\n",
    "\n",
    "for scores, namess in zip(metrics_, names_):\n",
    "    print(f'{namess} Mean Metrics:')\n",
    "    print(scores.mean())\n",
    "    print('  ')"
   ]
  },
  {
   "cell_type": "markdown",
   "id": "polish-speaking",
   "metadata": {},
   "source": [
    "### Selection of Model\n",
    "From the metrics obtained above, we see that **Ridge Classifier** performs best. However, the **Multinomial Naive Bayes classifier** is chosen to create the final model.\n",
    "\n",
    "This is because it **has the ability to provide probability score** for each prediction it makes, while scoring similarly to the best model."
   ]
  },
  {
   "cell_type": "code",
   "execution_count": 37,
   "id": "dense-guyana",
   "metadata": {
    "ExecuteTime": {
     "end_time": "2021-08-01T02:44:16.662468Z",
     "start_time": "2021-08-01T02:44:16.580681Z"
    }
   },
   "outputs": [],
   "source": [
    "# Join training and test datasets\n",
    "X = pd.concat([X_train, \n",
    "               X_test])\n",
    "y = pd.concat([y_train, \n",
    "               y_test])"
   ]
  },
  {
   "cell_type": "code",
   "execution_count": 38,
   "id": "british-sydney",
   "metadata": {
    "ExecuteTime": {
     "end_time": "2021-08-01T02:44:29.080314Z",
     "start_time": "2021-08-01T02:44:29.044334Z"
    }
   },
   "outputs": [],
   "source": [
    "def create_and_fit(clf, x, y):\n",
    "    best_clf = clf\n",
    "    pipeline = Pipeline([('vectorize', vector), ('model', best_clf)])\n",
    "    return pipeline.fit(x, y)"
   ]
  },
  {
   "cell_type": "code",
   "execution_count": 39,
   "id": "stock-irish",
   "metadata": {
    "ExecuteTime": {
     "end_time": "2021-08-01T02:45:18.860042Z",
     "start_time": "2021-08-01T02:45:17.006039Z"
    }
   },
   "outputs": [],
   "source": [
    "# Create model\n",
    "CLASSYfier = create_and_fit(MultinomialNB(), X, y)"
   ]
  },
  {
   "cell_type": "code",
   "execution_count": 40,
   "id": "united-syndication",
   "metadata": {
    "ExecuteTime": {
     "end_time": "2021-08-01T02:45:44.869993Z",
     "start_time": "2021-08-01T02:45:44.846627Z"
    }
   },
   "outputs": [
    {
     "data": {
      "text/plain": [
       "array(['business', 'health', 'sports'], dtype='<U8')"
      ]
     },
     "execution_count": 40,
     "metadata": {},
     "output_type": "execute_result"
    }
   ],
   "source": [
    "CLASSYfier.classes_"
   ]
  },
  {
   "cell_type": "markdown",
   "id": "differential-substance",
   "metadata": {},
   "source": [
    "## FINAL TESTING:\n",
    "\n",
    "The first sample text used is a tech news article about streaming services and video games. \n",
    "\n",
    "The classifier, if appropriate, should classify this as a tech text."
   ]
  },
  {
   "cell_type": "code",
   "execution_count": 44,
   "id": "external-reminder",
   "metadata": {
    "ExecuteTime": {
     "end_time": "2021-08-01T02:47:36.005810Z",
     "start_time": "2021-08-01T02:47:35.960191Z"
    }
   },
   "outputs": [
    {
     "data": {
      "text/plain": [
       "array([[0.30728909, 0.14220926, 0.55050165]])"
      ]
     },
     "execution_count": 44,
     "metadata": {},
     "output_type": "execute_result"
    }
   ],
   "source": [
    "input_text = '''Pelé was simply “The King.” He embraced “the beautiful game” of soccer in his 1958 World Cup debut for Brazil and never really let go.\n",
    "\n",
    "He won a record three World Cups and was widely regarded as one of his sport’s greatest players. His majestic and galvanizing presence set him among the most recognizable figures in the world.\n",
    "\n",
    "Pelé died Thursday at 82. He had undergone treatment for colon cancer since 2021.\n",
    "\n",
    "Pelé was among the game’s most prolific scorers and spent nearly two decades enchanting fans and dazzling opponents. His grace, athleticism and moves on soccer’s highest stage transfixed all. He orchestrated a fast, fluid style of play that revolutionized the sport — a flair that personified Brazilian elegance on the field.\n",
    "\n",
    "He carried his country to soccer’s heights and became a global ambassador for his sport in a journey that began on the streets of Sao Paulo state, where he would kick a sock stuffed with newspapers or rags.\n",
    "\n",
    "“Pelé changed everything. He transformed football into art, entertainment,” Neymar, a fellow Brazilian soccer player, said on Instagram. “Football and Brazil elevated their standing thanks to the King! He is gone, but his magic will endure. Pelé is eternal!”\n",
    "\n",
    "In the conversation about soccer’s greatest player, only the late Diego Maradona, Lionel Messi and Cristiano Ronaldo are mentioned alongside him.\n",
    "\n",
    "Different sources, counting different sets of games, list Pelé’s goal totals anywhere between 650 (league matches) to 1,281 (all senior matches, some against low-level competition). When Maradona once interviewed Pelé, he playfully asked the Brazilian how he accumulated so many goals.\n",
    "\n",
    "The player who would be dubbed “The King” was introduced to the world at 17 at the 1958 World Cup in Sweden, the youngest player ever at the tournament.\n",
    "\n",
    "Pelé was the emblem of his country’s World Cup triumph of 1970 in Mexico. He scored in the final and set up Carlos Alberto with a nonchalant pass for the last goal in a 4-1 victory over Italy.\n",
    "\n",
    "The image of Pelé in a bright-yellow Brazil jersey, with the No. 10 stamped on the back, remains alive with soccer fans everywhere. As does his trademark goal celebration — a leap with a right fist thrust high above his head.\n",
    "\n",
    "Pelé’s fame was such that in 1967 factions of a civil war in Nigeria agreed to a brief cease-fire so he could play an exhibition match in the country. He was knighted by Britain’s Queen Elizabeth II in 1997. When Pelé visited Washington to help popularize the game in North America, it was the U.S. president who stuck out his hand first.'''\n",
    "CLASSYfier.predict_proba([input_text])"
   ]
  },
  {
   "cell_type": "code",
   "execution_count": 45,
   "id": "headed-render",
   "metadata": {
    "ExecuteTime": {
     "end_time": "2021-08-01T03:14:11.710315Z",
     "start_time": "2021-08-01T03:14:11.693640Z"
    }
   },
   "outputs": [
    {
     "data": {
      "text/plain": [
       "'sports'"
      ]
     },
     "execution_count": 45,
     "metadata": {},
     "output_type": "execute_result"
    }
   ],
   "source": [
    "CLASSYfier.predict([input_text])[0]"
   ]
  },
  {
   "cell_type": "markdown",
   "id": "mediterranean-diamond",
   "metadata": {},
   "source": [
    "## GUI"
   ]
  },
  {
   "cell_type": "code",
   "execution_count": 48,
   "id": "military-sense",
   "metadata": {
    "ExecuteTime": {
     "end_time": "2021-08-01T22:54:14.333183Z",
     "start_time": "2021-08-01T22:40:20.981984Z"
    }
   },
   "outputs": [],
   "source": [
    "import tkinter as tk\n",
    "from tkinter.scrolledtext import ScrolledText\n",
    "\n",
    "\n",
    "window = tk.Tk()\n",
    "\n",
    "\n",
    "window.title(\"NEWS CLASSIFIER MODEL\")\n",
    "window.minsize(600,400)\n",
    "\n",
    "text_box = ScrolledText(window)\n",
    "text_box.grid(column=0, row=1, padx=5, pady=5)\n",
    "\n",
    "def result(res, pr):\n",
    "    HEALTH = round(pr[0][0], 3)\n",
    "    BUSINESS = round(pr[0][1], 3)\n",
    "    SPORTS = round(pr[0][2], 3)\n",
    "    \n",
    "    lines = [f\"Health: {HEALTH}\", f\"Business: {BUSINESS}\", f\"Sports: {SPORTS}\"]\n",
    "    tk.messagebox.showinfo(message= f\"Predicted Category: {str(res).capitalize()}\" + \"\\n\\n\\n\"+\"\\n\".join(lines))\n",
    "\n",
    "def clickMe():\n",
    "    classification = tk.StringVar()\n",
    "    category_,probabilities = classify_text(text_box.get(\"1.0\",tk.END))\n",
    "    result(category_, probabilities)\n",
    "    \n",
    "\n",
    "def classify_text(input_text):\n",
    "    out = CLASSYfier.predict([input_text])[0]\n",
    "    probs = CLASSYfier.predict_proba([input_text])\n",
    "    return out,probs\n",
    "\n",
    "label = tk.Label(window, text = \"Enter Text to Classify\")\n",
    "label.grid(column = 0, row = 0)\n",
    "\n",
    "btn = tk.Button(window, text=\"Classify\", command=clickMe)\n",
    "btn.grid(column=0, row=2)\n",
    "   \n",
    "\n",
    "\n",
    "\n",
    "window.mainloop()"
   ]
  },
  {
   "cell_type": "code",
   "execution_count": null,
   "id": "exposed-hayes",
   "metadata": {},
   "outputs": [],
   "source": []
  },
  {
   "cell_type": "markdown",
   "id": "e7165bbf",
   "metadata": {},
   "source": []
  },
  {
   "cell_type": "code",
   "execution_count": null,
   "id": "processed-wilson",
   "metadata": {},
   "outputs": [],
   "source": []
  }
 ],
 "metadata": {
  "kernelspec": {
   "display_name": "Python 3 (ipykernel)",
   "language": "python",
   "name": "python3"
  },
  "language_info": {
   "codemirror_mode": {
    "name": "ipython",
    "version": 3
   },
   "file_extension": ".py",
   "mimetype": "text/x-python",
   "name": "python",
   "nbconvert_exporter": "python",
   "pygments_lexer": "ipython3",
   "version": "3.9.12"
  },
  "varInspector": {
   "cols": {
    "lenName": 16,
    "lenType": 16,
    "lenVar": 40
   },
   "kernels_config": {
    "python": {
     "delete_cmd_postfix": "",
     "delete_cmd_prefix": "del ",
     "library": "var_list.py",
     "varRefreshCmd": "print(var_dic_list())"
    },
    "r": {
     "delete_cmd_postfix": ") ",
     "delete_cmd_prefix": "rm(",
     "library": "var_list.r",
     "varRefreshCmd": "cat(var_dic_list()) "
    }
   },
   "types_to_exclude": [
    "module",
    "function",
    "builtin_function_or_method",
    "instance",
    "_Feature"
   ],
   "window_display": false
  }
 },
 "nbformat": 4,
 "nbformat_minor": 5
}
